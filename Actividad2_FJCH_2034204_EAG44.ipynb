{
 "cells": [
  {
   "cell_type": "markdown",
   "id": "093543d7-16f9-415a-86c1-d1617213edfe",
   "metadata": {},
   "source": [
    "# Actividad 2\n",
    "Nombre: Francisco Javier Chavez Hernandez\n",
    "\n",
    "Matrícula: 2034204\n",
    "\n",
    "Grupo: 44"
   ]
  },
  {
   "cell_type": "markdown",
   "id": "aa29e0d3-4818-44b9-b57f-3cfd97b9a2ae",
   "metadata": {},
   "source": [
    "1. Contamos con la edad de las personas de San Andres, un pueblito de la sierra de Nuevo León, que cuenta con 50 habitantes en total. Genera una lista con la edad de los 50 habitantes de San Andres. la lista debe llamarse \"edades_pueblito\""
   ]
  },
  {
   "cell_type": "code",
   "execution_count": 1,
   "id": "878cc4c3-3709-4c73-8e36-5e0a04838dcc",
   "metadata": {},
   "outputs": [],
   "source": [
    "# 23, 80, 99, 66, 87, 31, 61, 21, 54, 76, 78, 17, 14, 26, 100, 34, 1, 70, 5,\n",
    "#31, 51, 39, 47, 81, 69, 45, 40, 8, 44, 60, 77, 93, 22, 91, 4, 37, 87, 34, 98,\n",
    "#29, 7, 63, 11, 91, 86, 20, 33, 90, 72, 61\n",
    "#respuesta\n",
    "\n",
    "edades_pueblito=[23, 80, 99, 66, 87, 31, 61, 21, 54, 76, 78, 17, 14, 26, 100, 34, 1, 70, 5,\n",
    "31, 51, 39, 47, 81, 69, 45, 40, 8, 44, 60, 77, 93, 22, 91, 4, 37, 87, 34, 98,\n",
    "29, 7, 63, 11, 91, 86, 20, 33, 90, 72, 61]"
   ]
  },
  {
   "cell_type": "markdown",
   "id": "b4d47a26-4561-48fc-a7e8-df275c26e758",
   "metadata": {},
   "source": [
    "2. Importa la librería de numpy con su apodo, y luego convierte  la lista edades_pueblito en un arreglo"
   ]
  },
  {
   "cell_type": "code",
   "execution_count": 2,
   "id": "02009718-9950-4324-aca5-a448727ed50b",
   "metadata": {},
   "outputs": [],
   "source": [
    "#respuesta\n",
    "import numpy as np"
   ]
  },
  {
   "cell_type": "markdown",
   "id": "7ed73508-1db7-4567-ae2f-81bbab9345f3",
   "metadata": {},
   "source": [
    "3. Calcula la media, la varianza, y la desviación estándar de la edad de los habitantes de San Andres, muestra un texto (print) con los cálculos realizados"
   ]
  },
  {
   "cell_type": "code",
   "execution_count": 8,
   "id": "ce1b283c-3f4a-4dbb-9633-099bbf4668c6",
   "metadata": {},
   "outputs": [
    {
     "name": "stdout",
     "output_type": "stream",
     "text": [
      "La media es: 51.28 La varianza es: 887.24 La desviacion estandar es: 29.79\n"
     ]
    }
   ],
   "source": [
    "#respuesta\n",
    "\n",
    "\n",
    "\n",
    "print('La media es:',np.mean(edades_pueblito), 'La varianza es:', np.var(edades_pueblito).round(2),'La desviacion estandar es:',np.std(edades_pueblito).round(2) )\n"
   ]
  },
  {
   "cell_type": "markdown",
   "id": "ca0149e9-ab8e-4708-b17b-27c791392d1a",
   "metadata": {},
   "source": [
    "4. Sin utilizar la formula de la media de numpy, es decir, sin utilizar np.mean(), como podriamos  calcular la media utlizando solo las funciones que hemos visto en clase."
   ]
  },
  {
   "cell_type": "code",
   "execution_count": 10,
   "id": "4413f41b-5a50-440c-ac59-743d8f366842",
   "metadata": {},
   "outputs": [
    {
     "data": {
      "text/plain": [
       "51.28"
      ]
     },
     "execution_count": 10,
     "metadata": {},
     "output_type": "execute_result"
    }
   ],
   "source": [
    "#respuesta\n",
    "np.sum(edades_pueblito)/50"
   ]
  },
  {
   "cell_type": "markdown",
   "id": "60047a79-fe4d-4967-8e71-304edce9b249",
   "metadata": {},
   "source": [
    "5. Selecciona una muestra de las edades de las primeras 20 personas del pueblo de San Andres, guardalo en un objeto llamado muestra_pueblito"
   ]
  },
  {
   "cell_type": "code",
   "execution_count": 19,
   "id": "f8dca0bc-4880-4463-a729-67503de9b140",
   "metadata": {},
   "outputs": [],
   "source": [
    "#respuesta\n",
    "muestra_pueblito=edades_pueblito[0:21]\n",
    "muestra_pueblito=np.array(muestra_pueblito)"
   ]
  },
  {
   "cell_type": "markdown",
   "id": "6c2f598f-d727-4437-b060-5d7052544652",
   "metadata": {},
   "source": [
    "6. Calcula la media, la varianza y la desviación estándar de la muestra de las edades del pueblo de San Andres, muestra un texto (print) con los calculos realizados "
   ]
  },
  {
   "cell_type": "code",
   "execution_count": 20,
   "id": "eceb2269-e3cb-43d4-9206-f2b21f5cd48b",
   "metadata": {},
   "outputs": [
    {
     "name": "stdout",
     "output_type": "stream",
     "text": [
      "La media es: 48.81 La varianza es: 966.46 La desviacion estandar es: 31.09\n"
     ]
    }
   ],
   "source": [
    "#respuesta\n",
    "print('La media es:',np.mean(muestra_pueblito).round(2), 'La varianza es:', np.var(muestra_pueblito,ddof=1).round(2),'La desviacion estandar es:',np.std(muestra_pueblito,ddof=1).round(2) )"
   ]
  },
  {
   "cell_type": "markdown",
   "id": "e702d284-b04b-4f89-8e01-bb56635c703c",
   "metadata": {},
   "source": [
    "7. Sabemos que en San Andres se dedican a la producción de huevo de gallina. Existen 20 productores de huevo en San Andres, donde en promedio cada uno produce 5.6785 kg de huevo por día. ¿cuál es la producción de huevo en kg por mes en San Andres?\n",
    "\n",
    "Resuelve utilizando np.prod()"
   ]
  },
  {
   "cell_type": "code",
   "execution_count": 37,
   "id": "3186932e",
   "metadata": {},
   "outputs": [
    {
     "data": {
      "text/plain": [
       "3407.1"
      ]
     },
     "execution_count": 37,
     "metadata": {},
     "output_type": "execute_result"
    }
   ],
   "source": [
    "#respuesta\n",
    "produccion=[20,5.6785,30]\n",
    "produccion_mensual=np.prod(produccion)\n",
    "produccion_mensual"
   ]
  },
  {
   "cell_type": "markdown",
   "id": "3cdf63ac-abd1-4c6f-a379-b0b22b2a3d34",
   "metadata": {},
   "source": [
    "8. Resuelve el ejercicio 7 sin usar np.prod(). Resuelva  utilizando tres objetos: \"productores\" que contenga el número de productores, \"huevos_promedio_x_dia\" que contenga la producción promedio de kg de huevo al día por productor y \"días del mes\" que contega el número de días  en un mes"
   ]
  },
  {
   "cell_type": "code",
   "execution_count": 35,
   "id": "7e879332-66e1-44e2-9163-3a37b06ac78b",
   "metadata": {},
   "outputs": [
    {
     "data": {
      "text/plain": [
       "3407.1"
      ]
     },
     "execution_count": 35,
     "metadata": {},
     "output_type": "execute_result"
    }
   ],
   "source": [
    "#respuesta\n",
    "productores=20\n",
    "huevos_promedio_x_dia=5.6785\n",
    "dias_del_mes=30\n",
    "\n",
    "produccion_mensual2=productores*huevos_promedio_x_dia*dias_del_mes\n",
    "produccion_mensual2"
   ]
  }
 ],
 "metadata": {
  "kernelspec": {
   "display_name": "Python 3 (ipykernel)",
   "language": "python",
   "name": "python3"
  },
  "language_info": {
   "codemirror_mode": {
    "name": "ipython",
    "version": 3
   },
   "file_extension": ".py",
   "mimetype": "text/x-python",
   "name": "python",
   "nbconvert_exporter": "python",
   "pygments_lexer": "ipython3",
   "version": "3.8.12"
  }
 },
 "nbformat": 4,
 "nbformat_minor": 5
}
